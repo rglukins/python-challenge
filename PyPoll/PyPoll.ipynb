{
 "cells": [
  {
   "cell_type": "code",
   "execution_count": 2,
   "metadata": {},
   "outputs": [
    {
     "name": "stdout",
     "output_type": "stream",
     "text": [
      "803000\n"
     ]
    }
   ],
   "source": [
    "# %load PyPoll.py\n",
    "import os\n",
    "import csv\n",
    "import pandas as pd\n",
    "\n",
    "#create variable for the path to the csv doc\n",
    "file_path = os.path.join(\".\",\"election_data_1.csv\")\n",
    "\n",
    "#create variables for analyzing the data\n",
    "total_votes = 0\n",
    "candidates = []\n",
    "\n",
    "#create an object that reads the doc\n",
    "with open(file_path, 'r') as csvfile:\n",
    "    reader = csv.DictReader(csvfile, delimiter=\",\")\n",
    "\n",
    "#Write code to calculate the number of votes cast\n",
    "    for voter in reader:\n",
    "        total_votes = total_votes +1\n",
    "\n",
    "\n",
    "print(total_votes)\n"
   ]
  },
  {
   "cell_type": "code",
   "execution_count": null,
   "metadata": {},
   "outputs": [],
   "source": [
    "for (rows) in reader:\n",
    "    "
   ]
  },
  {
   "cell_type": "code",
   "execution_count": null,
   "metadata": {},
   "outputs": [],
   "source": []
  }
 ],
 "metadata": {
  "kernelspec": {
   "display_name": "Python 3",
   "language": "python",
   "name": "python3"
  },
  "language_info": {
   "codemirror_mode": {
    "name": "ipython",
    "version": 3
   },
   "file_extension": ".py",
   "mimetype": "text/x-python",
   "name": "python",
   "nbconvert_exporter": "python",
   "pygments_lexer": "ipython3",
   "version": "3.6.4"
  }
 },
 "nbformat": 4,
 "nbformat_minor": 2
}
